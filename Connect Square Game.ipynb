{
 "cells": [
  {
   "cell_type": "markdown",
   "id": "352afd69",
   "metadata": {},
   "source": [
    "## Task 1 (7 marks)\n",
    "In order to begin playing this game, we require a function that can update the game state after a move has been made.  Write a function ``add_coin(board, coin, column)``.  This function should take the following parameters:\n",
    "- ``board``: A list of lists representing the current state of the board\n",
    "- ``coin``: The character representing the current player's coin, i.e. 'R' or 'Y'\n",
    "- ``column``: An integer representing the column in which the player is inserting their coin, with 0 representing the left-most column in the grid.  You may assume that a value greater than the maximum number of columns in the grid will never be entered.\n",
    "Your function should return a list of lists representing the new state of the board after the coin has been played.\n",
    "\n",
    "Here are some examples you can use to call your function\n",
    "```python\n",
    "add_coin([[0,0,0,0],[0,0,0,0],[0,0,0,0],[0,0,0,0]], 'R', 2)\n",
    ">>> [[0, 0, 0, 0], [0, 0, 0, 0], [0, 0, 0, 0], [0, 0, 'R', 0]]\n",
    "add_coin([[0,0,0,0,0],[0,0,0,0,0],['R',0,0,0,0],['Y','R',0,'R','Y']], 'Y', 1)\n",
    ">>> [[0, 0, 0, 0, 0],\n",
    " [0, 0, 0, 0, 0],\n",
    " ['R', 'Y', 0, 0, 0],\n",
    " ['Y', 'R', 0, 'R', 'Y']]\n",
    "```"
   ]
  },
  {
   "cell_type": "code",
   "execution_count": 1,
   "id": "87e4666d",
   "metadata": {},
   "outputs": [],
   "source": [
    "import copy\n",
    "def add_coin(board, coin, column) :\n",
    "    \"\"\"\n",
    "    Returns the board that arises from making a particular move \n",
    "    \"\"\"\n",
    "    \n",
    "    n = 1\n",
    "    # Create a copy of the board to ensure that the original board is not modified\n",
    "    board = copy.deepcopy(board)\n",
    "    \n",
    "    # Find the lowest unoccupied row for this column\n",
    "    while (n <= len(board)) :\n",
    "        if board[-1*n][column] == 0 :\n",
    "            board[-1*n][column] = coin\n",
    "            break\n",
    "        else :\n",
    "            n = n + 1\n",
    "    return board"
   ]
  },
  {
   "cell_type": "code",
   "execution_count": 2,
   "id": "e42e296e",
   "metadata": {},
   "outputs": [
    {
     "name": "stdout",
     "output_type": "stream",
     "text": [
      "[[0, 0, 0, 0], [0, 0, 0, 0], [0, 0, 0, 0], [0, 0, 'R', 0]]\n",
      "Pass Test Case 1\n"
     ]
    }
   ],
   "source": [
    "# Provided Test Case 1\n",
    "result = add_coin([[0,0,0,0],[0,0,0,0],[0,0,0,0],[0,0,0,0]], 'R', 2)\n",
    "print(result)\n",
    "if ( result == [[0, 0, 0, 0], [0, 0, 0, 0], [0, 0, 0, 0], [0, 0, 'R', 0]]):\n",
    "    print(\"Pass Test Case 1\")\n",
    "else:\n",
    "    print(\"Fail Test Case 1\")"
   ]
  },
  {
   "cell_type": "code",
   "execution_count": 3,
   "id": "bd887b0b",
   "metadata": {},
   "outputs": [
    {
     "name": "stdout",
     "output_type": "stream",
     "text": [
      "[[0, 0, 0, 0, 0], [0, 0, 0, 0, 0], ['R', 'Y', 0, 0, 0], ['Y', 'R', 0, 'R', 'Y']]\n",
      "Pass Test Case 2\n"
     ]
    }
   ],
   "source": [
    "# Provided Test Case 2\n",
    "result = add_coin([[0,0,0,0,0],[0,0,0,0,0],['R',0,0,0,0],['Y','R',0,'R','Y']], 'Y', 1)\n",
    "print(result)\n",
    "if (result == [[0, 0, 0, 0, 0], [0, 0, 0, 0, 0], ['R', 'Y', 0, 0, 0], ['Y', 'R', 0, 'R', 'Y']]):\n",
    "    print(\"Pass Test Case 2\")\n",
    "else:\n",
    "    print(\"Fail Test Case 2\")"
   ]
  },
  {
   "cell_type": "code",
   "execution_count": 4,
   "id": "093551bc",
   "metadata": {},
   "outputs": [
    {
     "name": "stdout",
     "output_type": "stream",
     "text": [
      "[[0, 0, 'R', 0, 0], [0, 0, 'R', 'Y', 0], ['R', 'Y', 'R', 0, 0], ['Y', 'R', 'Y', 'R', 'Y']]\n",
      "Pass Test Case 3\n"
     ]
    }
   ],
   "source": [
    "# Hidden Test Case 1\n",
    "result = add_coin([[0,0,0,0,0],[0,0,'R','Y',0],['R','Y','R',0,0],['Y','R','Y','R','Y']], 'R', 2)\n",
    "print(result)\n",
    "if (result == [[0, 0, 'R', 0, 0], [0, 0, 'R', 'Y', 0], ['R', 'Y', 'R', 0, 0], ['Y', 'R', 'Y', 'R', 'Y']]):\n",
    "    print(\"Pass Test Case 3\")\n",
    "else:\n",
    "    print(\"Fail Test Case 3\")"
   ]
  },
  {
   "cell_type": "code",
   "execution_count": 5,
   "id": "61eaadf5",
   "metadata": {},
   "outputs": [
    {
     "name": "stdout",
     "output_type": "stream",
     "text": [
      "[[0, 0, 0, 0, 0], [0, 0, 'R', 'Y', 0], ['R', 'Y', 'R', 'R', 'Y'], ['Y', 'R', 'Y', 'R', 'Y']]\n",
      "Pass Test Case 4\n"
     ]
    }
   ],
   "source": [
    "# Hidden Test Case 2\n",
    "result = add_coin([[0,0,0,0,0],[0,0,'R','Y',0],['R','Y','R','R',0],['Y','R','Y','R','Y']], 'Y', 4)\n",
    "print(result)\n",
    "if (result == [[0, 0, 0, 0, 0], [0, 0, 'R', 'Y', 0], ['R', 'Y', 'R', 'R', 'Y'], ['Y', 'R', 'Y', 'R', 'Y']]):\n",
    "    print(\"Pass Test Case 4\")\n",
    "else:\n",
    "    print(\"Fail Test Case 4\")"
   ]
  },
  {
   "cell_type": "markdown",
   "id": "790daf7b",
   "metadata": {},
   "source": [
    "## Task 2 (7 marks)\n",
    "To ascertain whether the game is finished, we need a function to determine whether a particular player has won.  Write a function ``is_winner(board, coin)``.  This function should take the following parameters:\n",
    "- ``board``: A list of lists representing the current state of the board\n",
    "- ``coin``: The character representing the current player's coin, i.e. 'R' or 'Y'\n",
    "Your function should return ``True`` if the player using the ``coin`` coins has won the game in the current board position and ``False`` otherwise.\n",
    "\n",
    "Here are some examples you can use to call your function:\n",
    "```python\n",
    "is_winner([[0,0,0,0,0],[0,0,0,0,0],['R',0,0,0,0],['Y','R',0,'R','Y']], 'Y')\n",
    ">>> False\n",
    "is_winner([['Y',0,0,0],['Y',0,0,0],['Y',0,'R','R'],['Y',0,'R','R']], 'R')\n",
    ">>> True\n",
    "```"
   ]
  },
  {
   "cell_type": "code",
   "execution_count": 6,
   "id": "2989c99e",
   "metadata": {},
   "outputs": [],
   "source": [
    "def is_winner(board, coin) :\n",
    "    \"\"\"\n",
    "    Identifies whether a player has won in the given board position\n",
    "    \"\"\"\n",
    "    for i in range(len(board)-1) :\n",
    "        for j in range(len(board[i])-1) :\n",
    "            \n",
    "            # Check for four adjacent coins in a square (victory condition)\n",
    "            if (board[i][j] == coin and board[i][j+1] == coin and board[i+1][j] == coin and board[i+1][j+1] == coin) :\n",
    "                return True\n",
    "    \n",
    "    # Four adjacent coins not found\n",
    "    return False\n",
    "        "
   ]
  },
  {
   "cell_type": "code",
   "execution_count": 7,
   "id": "6be13cc2",
   "metadata": {},
   "outputs": [
    {
     "name": "stdout",
     "output_type": "stream",
     "text": [
      "False\n",
      "Pass Test Case 1\n"
     ]
    }
   ],
   "source": [
    "# Provided Test Case 1\n",
    "result = is_winner([[0,0,0,0,0],[0,0,0,0,0],['R',0,0,0,0],['Y','R',0,'R','Y']], 'Y')\n",
    "print(result)\n",
    "if (result == False):\n",
    "    print(\"Pass Test Case 1\")\n",
    "else:\n",
    "    print(\"Fail Test Case 1\")"
   ]
  },
  {
   "cell_type": "code",
   "execution_count": 8,
   "id": "fe512313",
   "metadata": {},
   "outputs": [
    {
     "name": "stdout",
     "output_type": "stream",
     "text": [
      "True\n",
      "Pass Test Case 2\n"
     ]
    }
   ],
   "source": [
    "# Provided Test Case 2\n",
    "result = is_winner([['Y',0,0,0],['Y',0,0,0],['Y',0,'R','R'],['Y',0,'R','R']], 'R')\n",
    "print(result)\n",
    "if (result == True):\n",
    "    print(\"Pass Test Case 2\")\n",
    "else:\n",
    "    print(\"Fail Test Case 2\")"
   ]
  },
  {
   "cell_type": "code",
   "execution_count": 9,
   "id": "a6014802",
   "metadata": {},
   "outputs": [
    {
     "name": "stdout",
     "output_type": "stream",
     "text": [
      "False\n",
      "Pass Test Case 3\n"
     ]
    }
   ],
   "source": [
    "# Hidden Test Case 1\n",
    "result = is_winner([[0,0,0,0,0],[0,0,0,0,0],[0,0,0,0,0],[0,0,0,0,0]], 'Y')\n",
    "print(result)\n",
    "if (result == False):\n",
    "    print(\"Pass Test Case 3\")\n",
    "else:\n",
    "    print(\"Fail Test Case 3\")"
   ]
  },
  {
   "cell_type": "code",
   "execution_count": 10,
   "id": "446a225f",
   "metadata": {},
   "outputs": [
    {
     "name": "stdout",
     "output_type": "stream",
     "text": [
      "True\n",
      "Pass Test Case 4\n"
     ]
    }
   ],
   "source": [
    "# Hidden Test Case 2\n",
    "result = is_winner([['R',0,0,0],['R','Y','Y','R'],['R','Y','Y','R']], 'Y')\n",
    "print(result)\n",
    "if (result == True):\n",
    "    print(\"Pass Test Case 4\")\n",
    "else:\n",
    "    print(\"Fail Test Case 4\")"
   ]
  },
  {
   "cell_type": "markdown",
   "id": "cd8a2310",
   "metadata": {},
   "source": [
    "## Task 3 (8 marks)\n",
    "With these essential functions in place, we now wish to work towards building a competent AI to play our Connect Square game.  The concept of a <i>heuristic</i> is central to building an AI for most strategy games.  A heuristic is a function that maps a particular game state to a numeric value, indicating how desirable that state is to a particular player.  For example, a game state in which the player is about to win could be assigned a very high heuristic value, while a game state in which the player is about to lose could be assigned a very low value.\n",
    "\n",
    "There are numerous ways in which we can define a heuristic for any particular game, but we will adopt the following approach:\n",
    "- We will consider each overlapping 2 x 2 square within the grid.  For example, the points (0,0), (0, 1), (1, 0) and (1,1) will represent one square.  (1,0), (1, 1), (2, 0) and (2,1) will represent a second square and so on.\n",
    "- Consider the four points making up each square:\n",
    "\n",
    "\t-  If any one of those points contains an opponent's coin, it will be impossible to win the game by filling this square with our own coins and the square will therefore be assigned a value of 0.  \n",
    "\t- If one of the points contains our coin and the other three are empty the square will be assigned a value of 1. \n",
    "\t- If two of the points contain our coins and the other two points are empty then the square will be assigned a value of 10.\n",
    "\t- If three of the points contain our coins and the other one is empty then the square will be assigned a value of 100.\n",
    "\t- If all four of the points contain our coins then we have won the game and the square will be assigned a value of 1000.\n",
    "- The heuristic value for this game state is the sum of the value of each square in the grid.\n",
    "Note that there are some drawbacks to using this heuristic.  In particular, we don't consider how close our opponent is to completing a square so an AI that uses this heuristic will not try to prevent an opponent from completing his square.  You might like to consider how you could improve upon this heuristic, but for this task you should implement the heuristic as described.  Write a function ``heuristic(board, coin)`` that returns the heuristic value of the ``board`` for the player using the ``coin`` coins.\n",
    "\n",
    "Here are some examples you can use to call your function:\n",
    "\n",
    "```python\n",
    "heuristic([[0,0,0,0,0],[0,0,0,0,0],['R',0,0,0,0],['Y','R',0,'R','Y']], 'R')\n",
    ">>> 3\n",
    "heuristic([['Y',0,0,0],['Y',0,0,0],['Y',0,'R','R'],['Y',0,'R','R']], 'R')\n",
    ">>> 1021\n",
    "```"
   ]
  },
  {
   "cell_type": "code",
   "execution_count": 11,
   "id": "287d721c",
   "metadata": {},
   "outputs": [],
   "source": [
    "def heuristic(board, coin) :\n",
    "    \"\"\"\n",
    "    Calculates the heuristic value for a given board position according to the provided function.\n",
    "    \"\"\"\n",
    "    \n",
    "    # Keep track of the total score for all squares on the board\n",
    "    score = 0\n",
    "    \n",
    "    for i in range(len(board)-1) :\n",
    "        for j in range(len(board[i])-1) :\n",
    "            \n",
    "            # Consider only the four coins that make up the square currently being analysed\n",
    "            coins = [board[i][j], board[i][j+1], board[i+1][j], board[i+1][j+1]]\n",
    "            my_coins = coins.count(coin)\n",
    "            blanks = coins.count(0)\n",
    "            opponent_coins = len(coins) - my_coins - blanks\n",
    "            \n",
    "            # A convenient way of simplifying the points formula given in the question\n",
    "            if opponent_coins == 0 and my_coins >0:\n",
    "                score = score + 10 ** (my_coins-1)\n",
    "                \n",
    "    return score"
   ]
  },
  {
   "cell_type": "code",
   "execution_count": 12,
   "id": "3c53fd45",
   "metadata": {},
   "outputs": [
    {
     "name": "stdout",
     "output_type": "stream",
     "text": [
      "3\n",
      "Pass Test Case 1\n"
     ]
    }
   ],
   "source": [
    "# Provided Test Case 1\n",
    "result = heuristic([[0,0,0,0,0],[0,0,0,0,0],['R',0,0,0,0],['Y','R',0,'R','Y']], 'R')\n",
    "print(result)\n",
    "if (result == 3):\n",
    "    print(\"Pass Test Case 1\")\n",
    "else:\n",
    "    print(\"Fail Test Case 1\")"
   ]
  },
  {
   "cell_type": "code",
   "execution_count": 13,
   "id": "dec80c55",
   "metadata": {},
   "outputs": [
    {
     "name": "stdout",
     "output_type": "stream",
     "text": [
      "1021\n",
      "Pass Test Case 2\n"
     ]
    }
   ],
   "source": [
    "# Provided Test Case 2\n",
    "result = heuristic([['Y',0,0,0],['Y',0,0,0],['Y',0,'R','R'],['Y',0,'R','R']], 'R')\n",
    "print(result)\n",
    "if (result == 1021):\n",
    "    print(\"Pass Test Case 2\")\n",
    "else:\n",
    "    print(\"Fail Test Case 2\")"
   ]
  },
  {
   "cell_type": "code",
   "execution_count": 14,
   "id": "e876dbb7",
   "metadata": {},
   "outputs": [
    {
     "name": "stdout",
     "output_type": "stream",
     "text": [
      "0\n",
      "Pass Test Case 3\n"
     ]
    }
   ],
   "source": [
    "# Hidden Test Case 1\n",
    "result = heuristic([[0,0,0,0,0],[0,0,0,0,0],[0,0,0,0,0],[0,0,0,0,0]], 'R')\n",
    "print(result)\n",
    "if (result == 0):\n",
    "    print(\"Pass Test Case 3\")\n",
    "else:\n",
    "    print(\"Fail Test Case 3\")"
   ]
  },
  {
   "cell_type": "code",
   "execution_count": 15,
   "id": "176de812",
   "metadata": {},
   "outputs": [
    {
     "name": "stdout",
     "output_type": "stream",
     "text": [
      "100\n",
      "Pass Test Case 4\n"
     ]
    }
   ],
   "source": [
    "# Hidden Test Case 2\n",
    "result = heuristic([['R',0,0,0,'Y'],['R',0,'R','Y','Y'],['R','Y','R','R','R'],['Y','R','Y','R','Y']],'Y')\n",
    "print(result)\n",
    "if (result == 100):\n",
    "    print(\"Pass Test Case 4\")\n",
    "else:\n",
    "    print(\"Fail Test Case 4\")"
   ]
  },
  {
   "cell_type": "markdown",
   "id": "84eef87c",
   "metadata": {},
   "source": [
    "## Task 4 (8 marks)\n",
    "We now wish to create an AI player capable of playing (and hopefully winning) our Connect Square game.  Write a function ``ai_move(board, coin)`` to play the Connect Square game.  Your function should generate a list of all possible moves from the current ``board``.  Your function should then generate the board states that arise from making each of these moves and select the move that results in the state with the highest heuristic value.  If two states have the same heuristic value, then select the one that results from the using the numerically lowest column (e.g. column 1 is preferred over column 2 is the heuristic values are identical).  Finally, your function should return the new board state after applying the best move.\n",
    "\n",
    "Here are some examples you can use to call your function:\n",
    "\n",
    "```python\n",
    "ai_move([[0,0,0,0,0],[0,0,0,0,0],['R',0,0,0,0],['Y','R',0,'R','Y']], 'Y')\n",
    ">>> [[0, 0, 0, 0, 0],\n",
    " [0, 0, 0, 0, 0],\n",
    " ['R', 0, 0, 'Y', 0],\n",
    " ['Y', 'R', 0, 'R', 'Y']]\n",
    "ai_move([[0,0,0,0,0],['Y',0,0,0,0],['R',0,0,0,'Y'],['Y','R',0,'R','Y']], 'Y')\n",
    ">>> [[0, 0, 0, 0, 0],\n",
    " ['Y', 0, 0, 0, 0],\n",
    " ['R', 0, 0, 'Y', 'Y'],\n",
    " ['Y', 'R', 0, 'R', 'Y']]\n",
    "```"
   ]
  },
  {
   "cell_type": "code",
   "execution_count": 16,
   "id": "10f34a1b",
   "metadata": {},
   "outputs": [],
   "source": [
    "def possible_moves(board) :\n",
    "    \"\"\"\n",
    "    Returns a list of legal moves given the current board position\n",
    "    \"\"\"\n",
    "    moves = []\n",
    "    top_row = board[0]\n",
    "    \n",
    "    # A column can be played only if the top row is blank for that column\n",
    "    for i in range(len(top_row)) :\n",
    "        if top_row[i] == 0 :\n",
    "            moves = moves + [i]\n",
    "    return moves"
   ]
  },
  {
   "cell_type": "code",
   "execution_count": 17,
   "id": "41ba3a21",
   "metadata": {},
   "outputs": [],
   "source": [
    "def ai_move(board, coin) :\n",
    "    \"\"\"\n",
    "    Generates the board that arises from playing the best possible move according to \n",
    "    the defined heuristic function\n",
    "    \"\"\"\n",
    "    best_move = 0\n",
    "    best_heuristic = -1\n",
    "    for move in possible_moves(board) :\n",
    "        # Generate the boards that arise from playing each possible (legal) move\n",
    "        moved_board = add_coin(board, coin, move)\n",
    "        \n",
    "        # Find the resulting board with the highest heuristic value\n",
    "        if heuristic(moved_board, coin) > best_heuristic :\n",
    "            best_move = move\n",
    "            best_heuristic = heuristic(moved_board, coin)\n",
    "    \n",
    "    # Return the board with the highest heuristic value\n",
    "    new_board = add_coin(board, coin, best_move)\n",
    "    return new_board"
   ]
  },
  {
   "cell_type": "code",
   "execution_count": 18,
   "id": "e4281a7d",
   "metadata": {},
   "outputs": [
    {
     "name": "stdout",
     "output_type": "stream",
     "text": [
      "[[0, 0, 0, 0, 0], [0, 0, 0, 0, 0], ['R', 0, 0, 'Y', 0], ['Y', 'R', 0, 'R', 'Y']]\n",
      "Pass Test Case 1\n"
     ]
    }
   ],
   "source": [
    "# Provided Test Case 1\n",
    "result = ai_move([[0,0,0,0,0],[0,0,0,0,0],['R',0,0,0,0],['Y','R',0,'R','Y']], 'Y')\n",
    "print(result)\n",
    "if (result == [[0, 0, 0, 0, 0], [0, 0, 0, 0, 0], ['R', 0, 0, 'Y', 0], ['Y', 'R', 0, 'R', 'Y']]):\n",
    "    print(\"Pass Test Case 1\")\n",
    "else:\n",
    "    print(\"Fail Test Case 1\")"
   ]
  },
  {
   "cell_type": "code",
   "execution_count": 19,
   "id": "2ecfb88b",
   "metadata": {},
   "outputs": [
    {
     "name": "stdout",
     "output_type": "stream",
     "text": [
      "[[0, 0, 0, 0, 0], ['Y', 0, 0, 0, 0], ['R', 0, 0, 'Y', 'Y'], ['Y', 'R', 0, 'R', 'Y']]\n",
      "Pass Test Case 2\n"
     ]
    }
   ],
   "source": [
    "# Provided Test Case 2\n",
    "result = ai_move([[0,0,0,0,0],['Y',0,0,0,0],['R',0,0,0,'Y'],['Y','R',0,'R','Y']], 'Y')\n",
    "print(result)\n",
    "if (result == [[0, 0, 0, 0, 0], ['Y', 0, 0, 0, 0], ['R', 0, 0, 'Y', 'Y'], ['Y', 'R', 0, 'R', 'Y']]):\n",
    "    print(\"Pass Test Case 2\")\n",
    "else:\n",
    "    print(\"Fail Test Case 2\")"
   ]
  },
  {
   "cell_type": "code",
   "execution_count": 20,
   "id": "98ec534c",
   "metadata": {},
   "outputs": [
    {
     "name": "stdout",
     "output_type": "stream",
     "text": [
      "[[0, 0, 0, 0, 0], [0, 0, 0, 0, 0], [0, 0, 0, 0, 0], [0, 'R', 0, 0, 0]]\n",
      "Pass Test Case 3\n"
     ]
    }
   ],
   "source": [
    "# Hidden Test Case 1\n",
    "result = ai_move([[0,0,0,0,0],[0,0,0,0,0],[0,0,0,0,0],[0,0,0,0,0]], 'R')\n",
    "print(result)\n",
    "if (result == [[0, 0, 0, 0, 0], [0, 0, 0, 0, 0], [0, 0, 0, 0, 0], [0, 'R', 0, 0, 0]]):\n",
    "    print(\"Pass Test Case 3\")\n",
    "else:\n",
    "    print(\"Fail Test Case 3\")"
   ]
  },
  {
   "cell_type": "code",
   "execution_count": 21,
   "id": "f5e04dab",
   "metadata": {},
   "outputs": [
    {
     "name": "stdout",
     "output_type": "stream",
     "text": [
      "[[0, 'Y', 0, 'R', 0], ['R', 'Y', 'R', 'R', 0], ['Y', 'R', 'Y', 'R', 'Y'], ['R', 'Y', 'R', 'Y', 'R']]\n",
      "Pass Test Case 4\n"
     ]
    }
   ],
   "source": [
    "# Hidden Test Case 2\n",
    "result = ai_move([[0,'Y',0,0,0],['R','Y','R','R',0],['Y','R','Y','R','Y'],['R','Y','R','Y','R']], 'R')\n",
    "print(result)\n",
    "if (result == [[0, 'Y', 0, 'R', 0], ['R', 'Y', 'R', 'R', 0], ['Y', 'R', 'Y', 'R', 'Y'], ['R', 'Y', 'R', 'Y', 'R']]):\n",
    "    print(\"Pass Test Case 4\")\n",
    "else:\n",
    "    print(\"Fail Test Case 4\")"
   ]
  },
  {
   "cell_type": "markdown",
   "id": "51457fbc",
   "metadata": {},
   "source": [
    "# Code for playing game"
   ]
  },
  {
   "cell_type": "code",
   "execution_count": 22,
   "id": "3ce46437",
   "metadata": {},
   "outputs": [],
   "source": [
    "def moves_exist(board) :\n",
    "    \"\"\"\n",
    "    A move can still be made if any blank space exists on the top row\n",
    "    \"\"\"\n",
    "    if 0 in board[0] :\n",
    "        return True\n",
    "    return False\n",
    "\n",
    "def nice_print(board) :\n",
    "    \"\"\"\n",
    "    Formats the board for nicer display\n",
    "    \"\"\"\n",
    "    for line in board :\n",
    "        print(*line)\n",
    "    \n",
    "def play_game(rows, cols) :\n",
    "    \"\"\"\n",
    "    Plays a game with a human player against your AI\n",
    "    \"\"\"\n",
    "    # Instantiate an empty board\n",
    "    board = [([0]*cols) for i in range(rows)]\n",
    "\n",
    "    # Continue playing as long as a legal move can still be made\n",
    "    while(moves_exist(board)) :\n",
    "\n",
    "        # AI plays first with the red tokens\n",
    "        board = ai_move(board, 'R')\n",
    "        nice_print(board)\n",
    "\n",
    "        # Check if the AI Player has won the game\n",
    "        if (is_winner(board, 'R')) :\n",
    "            print('AI Wins!')\n",
    "            break\n",
    "\n",
    "        # Player moves next with the yellow tokens\n",
    "        player_move = input('Enter your move: ')\n",
    "        board = add_coin(board, 'Y', int(player_move))\n",
    "        if (is_winner(board, 'Y')) :\n",
    "            print('You win!')\n",
    "            break"
   ]
  },
  {
   "cell_type": "code",
   "execution_count": 24,
   "id": "dd5eca20",
   "metadata": {},
   "outputs": [
    {
     "name": "stdout",
     "output_type": "stream",
     "text": [
      "0 0 0 0 0 0 0\n",
      "0 0 0 0 0 0 0\n",
      "0 0 0 0 0 0 0\n",
      "0 0 0 0 0 0 0\n",
      "0 R 0 0 0 0 0\n",
      "Enter your move: 1\n",
      "0 0 0 0 0 0 0\n",
      "0 0 0 0 0 0 0\n",
      "0 R 0 0 0 0 0\n",
      "0 Y 0 0 0 0 0\n",
      "0 R 0 0 0 0 0\n",
      "Enter your move: 1\n",
      "0 0 0 0 0 0 0\n",
      "0 Y 0 0 0 0 0\n",
      "0 R 0 0 0 0 0\n",
      "0 Y 0 0 0 0 0\n",
      "0 R 0 R 0 0 0\n",
      "Enter your move: 1\n",
      "0 Y 0 0 0 0 0\n",
      "0 Y 0 0 0 0 0\n",
      "0 R 0 0 0 0 0\n",
      "0 Y 0 R 0 0 0\n",
      "0 R 0 R 0 0 0\n",
      "Enter your move: 1\n",
      "0 Y 0 0 0 0 0\n",
      "0 Y 0 0 0 0 0\n",
      "0 R 0 0 0 0 0\n",
      "0 Y 0 R 0 0 0\n",
      "0 R 0 R R 0 0\n",
      "Enter your move: 1\n",
      "0 Y 0 0 0 0 0\n",
      "0 Y 0 0 0 0 0\n",
      "0 R 0 0 0 0 0\n",
      "0 Y 0 R R 0 0\n",
      "0 R 0 R R 0 0\n",
      "AI Wins!\n"
     ]
    }
   ],
   "source": [
    "# Call play_game to play against your AI.  Useful for testing your code.\n",
    "play_game(5,7)"
   ]
  },
  {
   "cell_type": "code",
   "execution_count": null,
   "id": "c0bdcde7",
   "metadata": {},
   "outputs": [],
   "source": []
  }
 ],
 "metadata": {
  "kernelspec": {
   "display_name": "Python 3 (ipykernel)",
   "language": "python",
   "name": "python3"
  },
  "language_info": {
   "codemirror_mode": {
    "name": "ipython",
    "version": 3
   },
   "file_extension": ".py",
   "mimetype": "text/x-python",
   "name": "python",
   "nbconvert_exporter": "python",
   "pygments_lexer": "ipython3",
   "version": "3.9.16"
  }
 },
 "nbformat": 4,
 "nbformat_minor": 5
}
